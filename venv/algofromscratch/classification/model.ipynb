{
 "cells": [
  {
   "cell_type": "code",
   "execution_count": null,
   "id": "e8e0106a",
   "metadata": {},
   "outputs": [],
   "source": [
    "# model_zoo.py\n",
    "from sklearn.ensemble import RandomForestClassifier\n",
    "from sklearn.svm import SVC\n",
    "from sklearn.linear_model import LogisticRegression\n",
    "from xgboost import XGBClassifier\n",
    "\n",
    "def get_models():\n",
    "    return {\n",
    "        'Logistic Regression': LogisticRegression(),\n",
    "        'SVM': SVC(probability=True),\n",
    "        'Random Forest': RandomForestClassifier(),\n",
    "        'XGBoost': XGBClassifier(use_label_encoder=False, eval_metric='logloss')\n",
    "    }\n"
   ]
  },
  {
   "cell_type": "code",
   "execution_count": null,
   "id": "0c96de98",
   "metadata": {},
   "outputs": [],
   "source": [
    "\n",
    "# train_eval.py\n",
    "from sklearn.model_selection import train_test_split\n",
    "from sklearn.metrics import accuracy_score, classification_report\n",
    "\n",
    "def train_and_evaluate(model, X, y):\n",
    "    X_train, X_test, y_train, y_test = train_test_split(X, y, test_size=0.2)\n",
    "    model.fit(X_train, y_train)\n",
    "    y_pred = model.predict(X_test)\n",
    "    acc = accuracy_score(y_test, y_pred)\n",
    "    report = classification_report(y_test, y_pred)\n",
    "    return acc, report"
   ]
  },
  {
   "cell_type": "markdown",
   "id": "7950551f",
   "metadata": {},
   "source": []
  }
 ],
 "metadata": {
  "language_info": {
   "name": "python"
  }
 },
 "nbformat": 4,
 "nbformat_minor": 5
}
